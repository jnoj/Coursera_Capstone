{
 "cells": [
  {
   "cell_type": "markdown",
   "metadata": {},
   "source": [
    "IBM Applied Data Science Capstone Project\n",
    "The Battle of Neighborhoods: Choosing the Best Location for Your Next Food Business\n",
    "\n",
    "by Jorge Nascimento\n",
    "Introduction\n",
    "\n",
    "Rio de Janeiro is the second largest city in Brazil. It has an area of 1.255 km2, \n",
    "and a population of almost seven million people. According to the State Commercial Board, \n",
    "there has been an increasing trend in the number of registered businesses lately. More\n",
    "than 90% of the commercial activity is provided by the services sector, where hotels & restaurants \n",
    "activities rank 3rd in terms of share.\n",
    "\n",
    "Rio de Janeiro´s south zone, for instance, is easily accessible from the major highways and mass \n",
    "transit systems, making it a good location for one's food business. The city´s coastal zone is a haven \n",
    "for food lovers and bar-hoppers due to a wide variety of restaurants available in the area.\n",
    "\n",
    "The goal of this project is to help entrepreneurs in their search for possible locations for their food business. \n",
    "It is generally considered that location is one of the most crucial factors to consider when putting up a business. \n",
    "Along with the restaurant's menu, location can make a huge difference in the success of a food business. \n",
    "\n",
    "The main contribution of this project is to provide entrepreneurs with business location alternatives. Specifically, it seeks to:\n",
    "\n",
    "    identify the most common restaurant types in each of the neighborhoods in Rio de Janeiro\n",
    "    determine the least popular restaurant types in each location\n",
    "    cluster similar establishments in the city\n",
    "    visualize these clusters on the map\n",
    "    develop actionable insights and make recommendations about the best location for a food business in Rio de Janeiro\n",
    "\n",
    "Data\n",
    "\n",
    "In order to achieve the objectives of this project, the following data were obtained and preprocessed.\n",
    "\n",
    "    The latitude and longitude values of Rio de Janeiro were obtained using the geopy library. This was used to create the map of the city.\n",
    "    The list of neighborhoods in Rio de Janeiro were collected. It is publicly available on the official website of the State Government.\n",
    "    The coordinates of each of the neighborhoods in Rio de Janeiro were also obtained using the geopy library. This was used to show the \n",
    "    location of the neighborhoods in the map.\n",
    "    The number and types of restaurants for each location were collected using the Foursquare API. This will address the first \n",
    "    two objectives outlined above.\n"
   ]
  }
 ],
 "metadata": {
  "kernelspec": {
   "display_name": "Python",
   "language": "python",
   "name": "conda-env-python-py"
  },
  "language_info": {
   "codemirror_mode": {
    "name": "ipython",
    "version": 3
   },
   "file_extension": ".py",
   "mimetype": "text/x-python",
   "name": "python",
   "nbconvert_exporter": "python",
   "pygments_lexer": "ipython3",
   "version": "3.6.12"
  }
 },
 "nbformat": 4,
 "nbformat_minor": 4
}
